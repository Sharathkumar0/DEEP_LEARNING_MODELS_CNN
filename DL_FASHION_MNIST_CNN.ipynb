{
  "nbformat": 4,
  "nbformat_minor": 0,
  "metadata": {
    "accelerator": "GPU",
    "colab": {
      "name": "DL_Fashion_MNIST_CNN.ipynb",
      "provenance": [],
      "collapsed_sections": []
    },
    "kernelspec": {
      "display_name": "Python 3",
      "name": "python3"
    },
    "language_info": {
      "name": "python"
    }
  },
  "cells": [
    {
      "cell_type": "code",
      "metadata": {
        "id": "XJUfrb-6CW0o"
      },
      "source": [
        "#Import Libraries\n",
        "import tensorflow as tf\n",
        "import numpy as np\n",
        "import pandas as pd\n",
        "import matplotlib.pyplot as plt\n",
        "from tensorflow.keras.layers import Input,Conv2D, Dense, Dropout, Flatten\n",
        "from tensorflow.keras.models import Model"
      ],
      "execution_count": 1,
      "outputs": []
    },
    {
      "cell_type": "code",
      "metadata": {
        "id": "P1FELnqpDRAK"
      },
      "source": [
        "#Loading data from keras\n",
        "fashion_mnist = tf.keras.datasets.fashion_mnist\n",
        "(x_train,y_train),(x_test,y_test) = fashion_mnist.load_data()"
      ],
      "execution_count": null,
      "outputs": []
    },
    {
      "cell_type": "code",
      "metadata": {
        "id": "pJmoX8TIECpU"
      },
      "source": [
        "# Normalising the data\n",
        "x_train = x_train/255.0\n",
        "x_test = x_test/255.0"
      ],
      "execution_count": 3,
      "outputs": []
    },
    {
      "cell_type": "code",
      "metadata": {
        "id": "uQqqaDbXEw9u"
      },
      "source": [
        "#shape of train data is in H * W but for CNN input shape should be in H * W * C\n",
        "x_train = np.expand_dims(x_train,-1)\n",
        "x_test = np.expand_dims(x_test,-1)"
      ],
      "execution_count": 4,
      "outputs": []
    },
    {
      "cell_type": "code",
      "metadata": {
        "id": "QK0T6RQYFidB"
      },
      "source": [
        "# Number of classes\n",
        "K = len(set(y_train))\n",
        "print(\"Number of classes :\",K)"
      ],
      "execution_count": null,
      "outputs": []
    },
    {
      "cell_type": "code",
      "metadata": {
        "id": "DsPaDC7AGTTw"
      },
      "source": [
        "# Build the model (Functional API)\n",
        "\n",
        "i = Input(shape=(x_train[0].shape))\n",
        "x = Conv2D(32,(3,3),strides=2,activation='relu')(i)\n",
        "x = Conv2D(64,(3,3),strides=2,activation='relu')(x)\n",
        "x = Conv2D(128,(3,3),strides=2,activation='relu')(x)\n",
        "x = Flatten()(x)\n",
        "x = Dropout(0.2)(x)\n",
        "x = Dense(512,activation='relu')(x)\n",
        "x = Dropout(0.2)(x)\n",
        "x = Dense(K,activation='softmax')(x)\n",
        "\n",
        "model = Model(i,x)"
      ],
      "execution_count": 7,
      "outputs": []
    },
    {
      "cell_type": "code",
      "metadata": {
        "id": "VV_Hg3gGHpwc"
      },
      "source": [
        "# Build the compile\n",
        "model.compile(optimizer='adam',\n",
        "              loss='sparse_categorical_crossentropy',\n",
        "              metrics=['accuracy'])"
      ],
      "execution_count": 8,
      "outputs": []
    },
    {
      "cell_type": "code",
      "metadata": {
        "id": "4spsI-WqH-YR"
      },
      "source": [
        "#Train the model\n",
        "r = model.fit(x_train,y_train,validation_data=(x_test,y_test),epochs=15)"
      ],
      "execution_count": null,
      "outputs": []
    },
    {
      "cell_type": "code",
      "metadata": {
        "colab": {
          "base_uri": "https://localhost:8080/"
        },
        "id": "XBq4RRUQ6iKf",
        "outputId": "27c8e75a-031d-4c47-c403-cc467a9b2dda"
      },
      "source": [
        "#Evaluate the model\n",
        "model.evaluate(x_test,y_test)"
      ],
      "execution_count": 10,
      "outputs": [
        {
          "output_type": "stream",
          "name": "stdout",
          "text": [
            "313/313 [==============================] - 1s 4ms/step - loss: 0.3582 - accuracy: 0.9010\n"
          ]
        },
        {
          "output_type": "execute_result",
          "data": {
            "text/plain": [
              "[0.35816869139671326, 0.9010000228881836]"
            ]
          },
          "metadata": {},
          "execution_count": 10
        }
      ]
    },
    {
      "cell_type": "markdown",
      "metadata": {
        "id": "zTHRK4mq6r4f"
      },
      "source": [
        "**Observation:**\n",
        "\n",
        "Getting a decent accuracy. But, its definitely, not as high as MNIST. Thats because, Fashion MNIST is a far more difficult dataset than MNIST."
      ]
    },
    {
      "cell_type": "code",
      "metadata": {
        "colab": {
          "base_uri": "https://localhost:8080/",
          "height": 296
        },
        "id": "L42BYOFwx635",
        "outputId": "b7247bca-7447-471e-ef75-0a16ceb75a24"
      },
      "source": [
        "#Plot loss and val_loss\n",
        "plt.plot(r.history['loss'],label='Loss')\n",
        "plt.plot(r.history['val_loss'],label='Val_loss')\n",
        "plt.xlabel('Epochs')\n",
        "plt.ylabel('Loss')\n",
        "plt.legend()"
      ],
      "execution_count": 11,
      "outputs": [
        {
          "output_type": "execute_result",
          "data": {
            "text/plain": [
              "<matplotlib.legend.Legend at 0x7efe901601d0>"
            ]
          },
          "metadata": {},
          "execution_count": 11
        },
        {
          "output_type": "display_data",
          "data": {
            "image/png": "[encoded data removed]",
            "text/plain": [
              "<Figure size 432x288 with 1 Axes>"
            ]
          },
          "metadata": {
            "needs_background": "light"
          }
        }
      ]
    },
    {
      "cell_type": "markdown",
      "metadata": {
        "id": "uf_zdpfHQYuQ"
      },
      "source": [
        "**Observation:**\n",
        "\n",
        "It appears that the model is overfitting a little bit since we see that the validation loss is slightly going up."
      ]
    },
    {
      "cell_type": "code",
      "metadata": {
        "colab": {
          "base_uri": "https://localhost:8080/",
          "height": 296
        },
        "id": "xR9TA1z9yu1I",
        "outputId": "30214116-6acf-4825-d08d-5c0947b8dd12"
      },
      "source": [
        "#Plot for accuracy\n",
        "plt.plot(r.history['accuracy'],label='Accuracy')\n",
        "plt.plot(r.history['val_accuracy'],label='Val_acc')\n",
        "plt.xlabel('Epochs')\n",
        "plt.ylabel('Accuracy')\n",
        "plt.legend()"
      ],
      "execution_count": 12,
      "outputs": [
        {
          "output_type": "execute_result",
          "data": {
            "text/plain": [
              "<matplotlib.legend.Legend at 0x7efe9002d890>"
            ]
          },
          "metadata": {},
          "execution_count": 12
        },
        {
          "output_type": "display_data",
          "data": {
            "image/png": "[encoded data removed]",
            "text/plain": [
              "<Figure size 432x288 with 1 Axes>"
            ]
          },
          "metadata": {
            "needs_background": "light"
          }
        }
      ]
    },
    {
      "cell_type": "code",
      "metadata": {
        "id": "sbwyuhybYypW"
      },
      "source": [
        "#Predictions\n",
        "yhat = model.predict(x_test).argmax(axis=1)"
      ],
      "execution_count": 13,
      "outputs": []
    },
    {
      "cell_type": "code",
      "metadata": {
        "colab": {
          "base_uri": "https://localhost:8080/"
        },
        "id": "3j_OMDvMQfc1",
        "outputId": "0b30bbba-0846-4499-bcd3-47e84ef3efb3"
      },
      "source": [
        "# Metrics \n",
        "from sklearn.metrics import confusion_matrix\n",
        "cm = confusion_matrix(y_test,yhat)\n",
        "print(cm)"
      ],
      "execution_count": 14,
      "outputs": [
        {
          "output_type": "stream",
          "name": "stdout",
          "text": [
            "[[877   0  25  15   3   2  73   0   5   0]\n",
            " [  4 974   1  13   3   0   0   0   5   0]\n",
            " [ 15   1 857   7  54   0  65   0   1   0]\n",
            " [ 13   3  19 895  42   0  27   1   0   0]\n",
            " [  0   0  54  18 838   0  89   0   1   0]\n",
            " [  0   0   0   1   0 976   0  17   0   6]\n",
            " [128   1  78  21  67   0 689   0  16   0]\n",
            " [  0   0   0   0   0   9   0 964   0  27]\n",
            " [  3   0   4   3   1   3   8   2 976   0]\n",
            " [  0   0   0   1   0   4   1  30   0 964]]\n"
          ]
        }
      ]
    },
    {
      "cell_type": "code",
      "metadata": {
        "id": "VsnDxI9och0g"
      },
      "source": [
        "#Label Mapping\n",
        "labels = '''airplane\n",
        "automobile\n",
        "bird\n",
        "cat\n",
        "deer\n",
        "dog\n",
        "frog\n",
        "horse\n",
        "ship\n",
        "truck'''.split()"
      ],
      "execution_count": 15,
      "outputs": []
    }
  ]
}