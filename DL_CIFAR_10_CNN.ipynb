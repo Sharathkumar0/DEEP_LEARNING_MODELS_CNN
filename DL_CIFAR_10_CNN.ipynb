{
  "nbformat": 4,
  "nbformat_minor": 0,
  "metadata": {
    "colab": {
      "name": "DL_CIFAR-10_CNN.ipynb",
      "provenance": [],
      "collapsed_sections": []
    },
    "kernelspec": {
      "name": "python3",
      "display_name": "Python 3"
    },
    "language_info": {
      "name": "python"
    },
    "accelerator": "GPU"
  },
  "cells": [
    {
      "cell_type": "code",
      "metadata": {
        "id": "ngjJnEhCKtTR"
      },
      "source": [
        "#Import Libraries\n",
        "import tensorflow as tf\n",
        "import numpy as np\n",
        "import matplotlib.pyplot as plt\n",
        "from tensorflow.keras.layers import Input,Conv2D, Dense, Flatten, Dropout, GlobalAveragePooling2D\n",
        "from tensorflow.keras.models import Model"
      ],
      "execution_count": null,
      "outputs": []
    },
    {
      "cell_type": "code",
      "metadata": {
        "id": "HJ-kTC9eNBOY"
      },
      "source": [
        "#Loading dataset\n",
        "cifar = tf.keras.datasets.cifar10\n",
        "(xtrain,ytrain),(xtest,ytest) = cifar.load_data()"
      ],
      "execution_count": null,
      "outputs": []
    },
    {
      "cell_type": "code",
      "metadata": {
        "id": "cbLr5xoxNZ9d"
      },
      "source": [
        "#Dependent variable is in 2D So forcefully converting into 1D by using flatten\n",
        "ytrain = ytrain.flatten()\n",
        "ytest = ytest.flatten()"
      ],
      "execution_count": null,
      "outputs": []
    },
    {
      "cell_type": "code",
      "metadata": {
        "id": "i0eLW8rsOJSa"
      },
      "source": [
        "#Normalisation / Scaling the data\n",
        "x_train , x_test = xtrain/255.0, xtest/255.0"
      ],
      "execution_count": null,
      "outputs": []
    },
    {
      "cell_type": "code",
      "metadata": {
        "colab": {
          "base_uri": "https://localhost:8080/"
        },
        "id": "ZEcmdIdxOyQ2",
        "outputId": "7ada3c47-7193-4fe5-e44d-111017bf3325"
      },
      "source": [
        "# Number of classes\n",
        "K = len(set(ytrain))\n",
        "print(\"Number of classes:\",K)"
      ],
      "execution_count": null,
      "outputs": [
        {
          "output_type": "stream",
          "name": "stdout",
          "text": [
            "Number of classes: 10\n"
          ]
        }
      ]
    },
    {
      "cell_type": "code",
      "metadata": {
        "id": "Od6lZXo5O8Dr"
      },
      "source": [
        "#Build the model by using the Functionla API\n",
        "i = Input(shape= xtrain[0].shape)\n",
        "x = Conv2D(32,(3,3),strides=2,activation='relu')(i)\n",
        "x = Conv2D(64,(3,3),strides=2,activation='relu')(x)\n",
        "x = Conv2D(128,(3,3),strides=2,activation='relu')(x)\n",
        "x = Flatten()(x)\n",
        "x = Dropout(0.5)(x)\n",
        "x = Dense(1024,activation='relu')(x)\n",
        "x = Dropout(0.3)(x)\n",
        "x = Dense(K,activation='softmax')(x)\n",
        "\n",
        "model = Model(i,x)"
      ],
      "execution_count": null,
      "outputs": []
    },
    {
      "cell_type": "code",
      "metadata": {
        "id": "rnk-00fhPy9_"
      },
      "source": [
        "#Build the compile\n",
        "model.compile(optimizer='adam',\n",
        "              loss='sparse_categorical_crossentropy',\n",
        "              metrics=['accuracy'])"
      ],
      "execution_count": null,
      "outputs": []
    },
    {
      "cell_type": "code",
      "metadata": {
        "colab": {
          "base_uri": "https://localhost:8080/"
        },
        "id": "CBZa78kSRLbd",
        "outputId": "85dfe3ea-0c48-42d9-e1f8-9cc7665d3041"
      },
      "source": [
        "#Train the model\n",
        "cif = model.fit(x_train,ytrain,validation_data=(x_test,ytest),epochs=100)"
      ],
      "execution_count": null,
      "outputs": [
        {
          "output_type": "stream",
          "name": "stdout",
          "text": [
            "Epoch 1/100\n",
            "1563/1563 [==============================] - 43s 8ms/step - loss: 1.5498 - accuracy: 0.4357 - val_loss: 1.2461 - val_accuracy: 0.5501\n",
            "Epoch 2/100\n",
            "1563/1563 [==============================] - 13s 8ms/step - loss: 1.2618 - accuracy: 0.5472 - val_loss: 1.1073 - val_accuracy: 0.6055\n",
            "Epoch 3/100\n",
            "1563/1563 [==============================] - 13s 8ms/step - loss: 1.1310 - accuracy: 0.5955 - val_loss: 1.0205 - val_accuracy: 0.6381\n",
            "Epoch 4/100\n",
            "1563/1563 [==============================] - 13s 8ms/step - loss: 1.0425 - accuracy: 0.6305 - val_loss: 0.9791 - val_accuracy: 0.6557\n",
            "Epoch 5/100\n",
            "1563/1563 [==============================] - 13s 8ms/step - loss: 0.9725 - accuracy: 0.6538 - val_loss: 0.9076 - val_accuracy: 0.6824\n",
            "Epoch 6/100\n",
            "1563/1563 [==============================] - 12s 8ms/step - loss: 0.9150 - accuracy: 0.6747 - val_loss: 0.8898 - val_accuracy: 0.6835\n",
            "Epoch 7/100\n",
            "1563/1563 [==============================] - 12s 8ms/step - loss: 0.8712 - accuracy: 0.6919 - val_loss: 0.8693 - val_accuracy: 0.6990\n",
            "Epoch 8/100\n",
            "1563/1563 [==============================] - 12s 8ms/step - loss: 0.8259 - accuracy: 0.7055 - val_loss: 0.8634 - val_accuracy: 0.6989\n",
            "Epoch 9/100\n",
            "1563/1563 [==============================] - 13s 8ms/step - loss: 0.8015 - accuracy: 0.7152 - val_loss: 0.8719 - val_accuracy: 0.6969\n",
            "Epoch 10/100\n",
            "1563/1563 [==============================] - 13s 8ms/step - loss: 0.7680 - accuracy: 0.7258 - val_loss: 0.8465 - val_accuracy: 0.7113\n",
            "Epoch 11/100\n",
            "1563/1563 [==============================] - 12s 8ms/step - loss: 0.7361 - accuracy: 0.7374 - val_loss: 0.8355 - val_accuracy: 0.7091\n",
            "Epoch 12/100\n",
            "1563/1563 [==============================] - 12s 8ms/step - loss: 0.7096 - accuracy: 0.7476 - val_loss: 0.8301 - val_accuracy: 0.7121\n",
            "Epoch 13/100\n",
            "1563/1563 [==============================] - 12s 8ms/step - loss: 0.6971 - accuracy: 0.7528 - val_loss: 0.8247 - val_accuracy: 0.7127\n",
            "Epoch 14/100\n",
            "1563/1563 [==============================] - 13s 8ms/step - loss: 0.6780 - accuracy: 0.7601 - val_loss: 0.8078 - val_accuracy: 0.7225\n",
            "Epoch 15/100\n",
            "1563/1563 [==============================] - 12s 8ms/step - loss: 0.6502 - accuracy: 0.7678 - val_loss: 0.8145 - val_accuracy: 0.7228\n",
            "Epoch 16/100\n",
            "1563/1563 [==============================] - 12s 8ms/step - loss: 0.6360 - accuracy: 0.7727 - val_loss: 0.8064 - val_accuracy: 0.7208\n",
            "Epoch 17/100\n",
            "1563/1563 [==============================] - 12s 8ms/step - loss: 0.6230 - accuracy: 0.7788 - val_loss: 0.8188 - val_accuracy: 0.7214\n",
            "Epoch 18/100\n",
            "1563/1563 [==============================] - 12s 8ms/step - loss: 0.6097 - accuracy: 0.7875 - val_loss: 0.7986 - val_accuracy: 0.7282\n",
            "Epoch 19/100\n",
            "1563/1563 [==============================] - 12s 8ms/step - loss: 0.6035 - accuracy: 0.7884 - val_loss: 0.8072 - val_accuracy: 0.7232\n",
            "Epoch 20/100\n",
            "1563/1563 [==============================] - 12s 8ms/step - loss: 0.5821 - accuracy: 0.7937 - val_loss: 0.8034 - val_accuracy: 0.7234\n",
            "Epoch 21/100\n",
            "1563/1563 [==============================] - 12s 8ms/step - loss: 0.5779 - accuracy: 0.7962 - val_loss: 0.7974 - val_accuracy: 0.7262\n",
            "Epoch 22/100\n",
            "1563/1563 [==============================] - 13s 8ms/step - loss: 0.5598 - accuracy: 0.8004 - val_loss: 0.8281 - val_accuracy: 0.7158\n",
            "Epoch 23/100\n",
            "1563/1563 [==============================] - 13s 8ms/step - loss: 0.5599 - accuracy: 0.8010 - val_loss: 0.8019 - val_accuracy: 0.7236\n",
            "Epoch 24/100\n",
            "1563/1563 [==============================] - 13s 8ms/step - loss: 0.5445 - accuracy: 0.8077 - val_loss: 0.8133 - val_accuracy: 0.7223\n",
            "Epoch 25/100\n",
            "1563/1563 [==============================] - 13s 8ms/step - loss: 0.5374 - accuracy: 0.8095 - val_loss: 0.8054 - val_accuracy: 0.7237\n",
            "Epoch 26/100\n",
            "1563/1563 [==============================] - 12s 8ms/step - loss: 0.5283 - accuracy: 0.8138 - val_loss: 0.8300 - val_accuracy: 0.7136\n",
            "Epoch 27/100\n",
            "1563/1563 [==============================] - 13s 8ms/step - loss: 0.5201 - accuracy: 0.8162 - val_loss: 0.8299 - val_accuracy: 0.7230\n",
            "Epoch 28/100\n",
            "1563/1563 [==============================] - 13s 8ms/step - loss: 0.5104 - accuracy: 0.8215 - val_loss: 0.8059 - val_accuracy: 0.7287\n",
            "Epoch 29/100\n",
            "1563/1563 [==============================] - 12s 8ms/step - loss: 0.5108 - accuracy: 0.8223 - val_loss: 0.8187 - val_accuracy: 0.7199\n",
            "Epoch 30/100\n",
            "1563/1563 [==============================] - 12s 8ms/step - loss: 0.5081 - accuracy: 0.8219 - val_loss: 0.8272 - val_accuracy: 0.7240\n",
            "Epoch 31/100\n",
            "1563/1563 [==============================] - 13s 8ms/step - loss: 0.4995 - accuracy: 0.8242 - val_loss: 0.8163 - val_accuracy: 0.7275\n",
            "Epoch 32/100\n",
            "1563/1563 [==============================] - 12s 8ms/step - loss: 0.4959 - accuracy: 0.8260 - val_loss: 0.8229 - val_accuracy: 0.7203\n",
            "Epoch 33/100\n",
            "1563/1563 [==============================] - 12s 8ms/step - loss: 0.4884 - accuracy: 0.8289 - val_loss: 0.8078 - val_accuracy: 0.7254\n",
            "Epoch 34/100\n",
            "1563/1563 [==============================] - 13s 8ms/step - loss: 0.4848 - accuracy: 0.8315 - val_loss: 0.8150 - val_accuracy: 0.7255\n",
            "Epoch 35/100\n",
            "1563/1563 [==============================] - 13s 8ms/step - loss: 0.4763 - accuracy: 0.8334 - val_loss: 0.8425 - val_accuracy: 0.7167\n",
            "Epoch 36/100\n",
            "1563/1563 [==============================] - 13s 8ms/step - loss: 0.4773 - accuracy: 0.8342 - val_loss: 0.8285 - val_accuracy: 0.7226\n",
            "Epoch 37/100\n",
            "1563/1563 [==============================] - 13s 8ms/step - loss: 0.4685 - accuracy: 0.8374 - val_loss: 0.8076 - val_accuracy: 0.7248\n",
            "Epoch 38/100\n",
            "1563/1563 [==============================] - 13s 8ms/step - loss: 0.4650 - accuracy: 0.8392 - val_loss: 0.8166 - val_accuracy: 0.7286\n",
            "Epoch 39/100\n",
            "1563/1563 [==============================] - 13s 8ms/step - loss: 0.4721 - accuracy: 0.8366 - val_loss: 0.8282 - val_accuracy: 0.7211\n",
            "Epoch 40/100\n",
            "1563/1563 [==============================] - 13s 8ms/step - loss: 0.4534 - accuracy: 0.8435 - val_loss: 0.8327 - val_accuracy: 0.7210\n",
            "Epoch 41/100\n",
            "1563/1563 [==============================] - 13s 8ms/step - loss: 0.4636 - accuracy: 0.8404 - val_loss: 0.8239 - val_accuracy: 0.7232\n",
            "Epoch 42/100\n",
            "1563/1563 [==============================] - 13s 8ms/step - loss: 0.4488 - accuracy: 0.8431 - val_loss: 0.8338 - val_accuracy: 0.7224\n",
            "Epoch 43/100\n",
            "1563/1563 [==============================] - 13s 8ms/step - loss: 0.4473 - accuracy: 0.8454 - val_loss: 0.8263 - val_accuracy: 0.7263\n",
            "Epoch 44/100\n",
            "1563/1563 [==============================] - 13s 8ms/step - loss: 0.4457 - accuracy: 0.8438 - val_loss: 0.8222 - val_accuracy: 0.7178\n",
            "Epoch 45/100\n",
            "1563/1563 [==============================] - 13s 8ms/step - loss: 0.4464 - accuracy: 0.8457 - val_loss: 0.8315 - val_accuracy: 0.7180\n",
            "Epoch 46/100\n",
            "1563/1563 [==============================] - 13s 8ms/step - loss: 0.4371 - accuracy: 0.8483 - val_loss: 0.8267 - val_accuracy: 0.7261\n",
            "Epoch 47/100\n",
            "1563/1563 [==============================] - 13s 8ms/step - loss: 0.4442 - accuracy: 0.8464 - val_loss: 0.8349 - val_accuracy: 0.7169\n",
            "Epoch 48/100\n",
            "1563/1563 [==============================] - 13s 8ms/step - loss: 0.4365 - accuracy: 0.8472 - val_loss: 0.8392 - val_accuracy: 0.7127\n",
            "Epoch 49/100\n",
            "1563/1563 [==============================] - 13s 9ms/step - loss: 0.4291 - accuracy: 0.8517 - val_loss: 0.8321 - val_accuracy: 0.7187\n",
            "Epoch 50/100\n",
            "1563/1563 [==============================] - 13s 8ms/step - loss: 0.4271 - accuracy: 0.8512 - val_loss: 0.8578 - val_accuracy: 0.7147\n",
            "Epoch 51/100\n",
            "1563/1563 [==============================] - 13s 8ms/step - loss: 0.4212 - accuracy: 0.8549 - val_loss: 0.8435 - val_accuracy: 0.7195\n",
            "Epoch 52/100\n",
            "1563/1563 [==============================] - 13s 8ms/step - loss: 0.4301 - accuracy: 0.8521 - val_loss: 0.8323 - val_accuracy: 0.7233\n",
            "Epoch 53/100\n",
            "1563/1563 [==============================] - 13s 8ms/step - loss: 0.4159 - accuracy: 0.8573 - val_loss: 0.8320 - val_accuracy: 0.7205\n",
            "Epoch 54/100\n",
            "1563/1563 [==============================] - 13s 8ms/step - loss: 0.4280 - accuracy: 0.8533 - val_loss: 0.8177 - val_accuracy: 0.7287\n",
            "Epoch 55/100\n",
            "1563/1563 [==============================] - 13s 8ms/step - loss: 0.4191 - accuracy: 0.8571 - val_loss: 0.8371 - val_accuracy: 0.7223\n",
            "Epoch 56/100\n",
            "1563/1563 [==============================] - 13s 8ms/step - loss: 0.4188 - accuracy: 0.8570 - val_loss: 0.8336 - val_accuracy: 0.7224\n",
            "Epoch 57/100\n",
            "1563/1563 [==============================] - 13s 8ms/step - loss: 0.4129 - accuracy: 0.8592 - val_loss: 0.8296 - val_accuracy: 0.7240\n",
            "Epoch 58/100\n",
            "1563/1563 [==============================] - 13s 8ms/step - loss: 0.4141 - accuracy: 0.8595 - val_loss: 0.8345 - val_accuracy: 0.7198\n",
            "Epoch 59/100\n",
            "1563/1563 [==============================] - 13s 8ms/step - loss: 0.4129 - accuracy: 0.8608 - val_loss: 0.8330 - val_accuracy: 0.7224\n",
            "Epoch 60/100\n",
            "1563/1563 [==============================] - 12s 8ms/step - loss: 0.4067 - accuracy: 0.8593 - val_loss: 0.8342 - val_accuracy: 0.7223\n",
            "Epoch 61/100\n",
            "1563/1563 [==============================] - 13s 8ms/step - loss: 0.4053 - accuracy: 0.8620 - val_loss: 0.8384 - val_accuracy: 0.7222\n",
            "Epoch 62/100\n",
            "1563/1563 [==============================] - 12s 8ms/step - loss: 0.3941 - accuracy: 0.8643 - val_loss: 0.8327 - val_accuracy: 0.7241\n",
            "Epoch 63/100\n",
            "1563/1563 [==============================] - 13s 8ms/step - loss: 0.3932 - accuracy: 0.8662 - val_loss: 0.8459 - val_accuracy: 0.7188\n",
            "Epoch 64/100\n",
            "1563/1563 [==============================] - 13s 8ms/step - loss: 0.3996 - accuracy: 0.8659 - val_loss: 0.8427 - val_accuracy: 0.7259\n",
            "Epoch 65/100\n",
            "1563/1563 [==============================] - 13s 8ms/step - loss: 0.3957 - accuracy: 0.8651 - val_loss: 0.8558 - val_accuracy: 0.7215\n",
            "Epoch 66/100\n",
            "1563/1563 [==============================] - 13s 8ms/step - loss: 0.3995 - accuracy: 0.8635 - val_loss: 0.8448 - val_accuracy: 0.7199\n",
            "Epoch 67/100\n",
            "1563/1563 [==============================] - 12s 8ms/step - loss: 0.3872 - accuracy: 0.8677 - val_loss: 0.8577 - val_accuracy: 0.7152\n",
            "Epoch 68/100\n",
            "1563/1563 [==============================] - 12s 8ms/step - loss: 0.4000 - accuracy: 0.8658 - val_loss: 0.8322 - val_accuracy: 0.7225\n",
            "Epoch 69/100\n",
            "1563/1563 [==============================] - 12s 8ms/step - loss: 0.3939 - accuracy: 0.8665 - val_loss: 0.8290 - val_accuracy: 0.7212\n",
            "Epoch 70/100\n",
            "1563/1563 [==============================] - 12s 8ms/step - loss: 0.3894 - accuracy: 0.8673 - val_loss: 0.8428 - val_accuracy: 0.7225\n",
            "Epoch 71/100\n",
            "1563/1563 [==============================] - 13s 8ms/step - loss: 0.3815 - accuracy: 0.8694 - val_loss: 0.8498 - val_accuracy: 0.7194\n",
            "Epoch 72/100\n",
            "1563/1563 [==============================] - 12s 8ms/step - loss: 0.3876 - accuracy: 0.8701 - val_loss: 0.8324 - val_accuracy: 0.7261\n",
            "Epoch 73/100\n",
            "1563/1563 [==============================] - 13s 8ms/step - loss: 0.3833 - accuracy: 0.8698 - val_loss: 0.8349 - val_accuracy: 0.7291\n",
            "Epoch 74/100\n",
            "1563/1563 [==============================] - 13s 8ms/step - loss: 0.3935 - accuracy: 0.8678 - val_loss: 0.8368 - val_accuracy: 0.7242\n",
            "Epoch 75/100\n",
            "1563/1563 [==============================] - 13s 8ms/step - loss: 0.3802 - accuracy: 0.8716 - val_loss: 0.8693 - val_accuracy: 0.7161\n",
            "Epoch 76/100\n",
            "1563/1563 [==============================] - 13s 8ms/step - loss: 0.3839 - accuracy: 0.8707 - val_loss: 0.8309 - val_accuracy: 0.7295\n",
            "Epoch 77/100\n",
            "1563/1563 [==============================] - 12s 8ms/step - loss: 0.3755 - accuracy: 0.8729 - val_loss: 0.8494 - val_accuracy: 0.7226\n",
            "Epoch 78/100\n",
            "1563/1563 [==============================] - 13s 8ms/step - loss: 0.3759 - accuracy: 0.8737 - val_loss: 0.8487 - val_accuracy: 0.7172\n",
            "Epoch 79/100\n",
            "1563/1563 [==============================] - 12s 8ms/step - loss: 0.3750 - accuracy: 0.8717 - val_loss: 0.8608 - val_accuracy: 0.7163\n",
            "Epoch 80/100\n",
            "1563/1563 [==============================] - 13s 8ms/step - loss: 0.3735 - accuracy: 0.8744 - val_loss: 0.8574 - val_accuracy: 0.7167\n",
            "Epoch 81/100\n",
            "1563/1563 [==============================] - 13s 8ms/step - loss: 0.3728 - accuracy: 0.8740 - val_loss: 0.8414 - val_accuracy: 0.7246\n",
            "Epoch 82/100\n",
            "1563/1563 [==============================] - 14s 9ms/step - loss: 0.3674 - accuracy: 0.8758 - val_loss: 0.8653 - val_accuracy: 0.7129\n",
            "Epoch 83/100\n",
            "1563/1563 [==============================] - 13s 9ms/step - loss: 0.3715 - accuracy: 0.8749 - val_loss: 0.8468 - val_accuracy: 0.7239\n",
            "Epoch 84/100\n",
            "1563/1563 [==============================] - 13s 8ms/step - loss: 0.3698 - accuracy: 0.8773 - val_loss: 0.8542 - val_accuracy: 0.7271\n",
            "Epoch 85/100\n",
            "1563/1563 [==============================] - 13s 8ms/step - loss: 0.3657 - accuracy: 0.8773 - val_loss: 0.8572 - val_accuracy: 0.7228\n",
            "Epoch 86/100\n",
            "1563/1563 [==============================] - 13s 8ms/step - loss: 0.3615 - accuracy: 0.8779 - val_loss: 0.8488 - val_accuracy: 0.7192\n",
            "Epoch 87/100\n",
            "1563/1563 [==============================] - 13s 8ms/step - loss: 0.3661 - accuracy: 0.8768 - val_loss: 0.8555 - val_accuracy: 0.7200\n",
            "Epoch 88/100\n",
            "1563/1563 [==============================] - 13s 8ms/step - loss: 0.3678 - accuracy: 0.8763 - val_loss: 0.8556 - val_accuracy: 0.7180\n",
            "Epoch 89/100\n",
            "1563/1563 [==============================] - 13s 8ms/step - loss: 0.3653 - accuracy: 0.8766 - val_loss: 0.8726 - val_accuracy: 0.7157\n",
            "Epoch 90/100\n",
            "1563/1563 [==============================] - 13s 8ms/step - loss: 0.3729 - accuracy: 0.8780 - val_loss: 0.8432 - val_accuracy: 0.7280\n",
            "Epoch 91/100\n",
            "1563/1563 [==============================] - 12s 8ms/step - loss: 0.3652 - accuracy: 0.8777 - val_loss: 0.8777 - val_accuracy: 0.7169\n",
            "Epoch 92/100\n",
            "1563/1563 [==============================] - 13s 8ms/step - loss: 0.3578 - accuracy: 0.8789 - val_loss: 0.8595 - val_accuracy: 0.7139\n",
            "Epoch 93/100\n",
            "1563/1563 [==============================] - 13s 8ms/step - loss: 0.3646 - accuracy: 0.8795 - val_loss: 0.8576 - val_accuracy: 0.7227\n",
            "Epoch 94/100\n",
            "1563/1563 [==============================] - 13s 8ms/step - loss: 0.3581 - accuracy: 0.8806 - val_loss: 0.8639 - val_accuracy: 0.7258\n",
            "Epoch 95/100\n",
            "1563/1563 [==============================] - 13s 8ms/step - loss: 0.3618 - accuracy: 0.8783 - val_loss: 0.9002 - val_accuracy: 0.7070\n",
            "Epoch 96/100\n",
            "1563/1563 [==============================] - 14s 9ms/step - loss: 0.3607 - accuracy: 0.8796 - val_loss: 0.8664 - val_accuracy: 0.7192\n",
            "Epoch 97/100\n",
            "1563/1563 [==============================] - 14s 9ms/step - loss: 0.3481 - accuracy: 0.8841 - val_loss: 0.9016 - val_accuracy: 0.7141\n",
            "Epoch 98/100\n",
            "1563/1563 [==============================] - 13s 8ms/step - loss: 0.3618 - accuracy: 0.8801 - val_loss: 0.8646 - val_accuracy: 0.7162\n",
            "Epoch 99/100\n",
            "1563/1563 [==============================] - 13s 8ms/step - loss: 0.3528 - accuracy: 0.8837 - val_loss: 0.8749 - val_accuracy: 0.7162\n",
            "Epoch 100/100\n",
            "1563/1563 [==============================] - 13s 8ms/step - loss: 0.3613 - accuracy: 0.8796 - val_loss: 0.8762 - val_accuracy: 0.7197\n"
          ]
        }
      ]
    },
    {
      "cell_type": "code",
      "metadata": {
        "colab": {
          "base_uri": "https://localhost:8080/",
          "height": 312
        },
        "id": "tAw-8ICnWWB7",
        "outputId": "2a03de09-ecf4-4399-a546-b9189a52a825"
      },
      "source": [
        "#Plot loss and val_loss\n",
        "plt.plot(cif.history['loss'],label='Loss')\n",
        "plt.plot(cif.history['val_loss'],label='val_loss')\n",
        "plt.xlabel('Epochs')\n",
        "plt.ylabel('Loss')\n",
        "plt.title('Loss and val_loss')\n",
        "plt.legend()"
      ],
      "execution_count": null,
      "outputs": [
        {
          "output_type": "execute_result",
          "data": {
            "text/plain": [
              "<matplotlib.legend.Legend at 0x7f184ada07d0>"
            ]
          },
          "metadata": {},
          "execution_count": 32
        },
        {
          "output_type": "display_data",
          "data": {
            "image/png": "[encoded data removed]",
            "text/plain": [
              "<Figure size 432x288 with 1 Axes>"
            ]
          },
          "metadata": {
            "needs_background": "light"
          }
        }
      ]
    },
    {
      "cell_type": "code",
      "metadata": {
        "colab": {
          "base_uri": "https://localhost:8080/",
          "height": 312
        },
        "id": "9oe8IU3jXKNc",
        "outputId": "e2a35f5e-68fe-4733-e840-722075a4bf14"
      },
      "source": [
        "#Plot accuracy and val_accuracy\n",
        "plt.plot(cif.history['accuracy'],label='Accuracy')\n",
        "plt.plot(cif.history['val_accuracy'],label='Val_acc')\n",
        "plt.xlabel('Epochs')\n",
        "plt.ylabel('Accuracy')\n",
        "plt.title('Accuracy and Val_acc')\n",
        "plt.legend()"
      ],
      "execution_count": null,
      "outputs": [
        {
          "output_type": "execute_result",
          "data": {
            "text/plain": [
              "<matplotlib.legend.Legend at 0x7f18c1190990>"
            ]
          },
          "metadata": {},
          "execution_count": 34
        },
        {
          "output_type": "display_data",
          "data": {
            "image/png": "[encoded data removed]",
            "text/plain": [
              "<Figure size 432x288 with 1 Axes>"
            ]
          },
          "metadata": {
            "needs_background": "light"
          }
        }
      ]
    },
    {
      "cell_type": "code",
      "metadata": {
        "colab": {
          "base_uri": "https://localhost:8080/"
        },
        "id": "kOW7vMjzXr9Y",
        "outputId": "f06fd1a7-7000-4bb5-992a-674d632d6a6c"
      },
      "source": [
        "#Evaluate\n",
        "model.evaluate(x_test,ytest)"
      ],
      "execution_count": null,
      "outputs": [
        {
          "output_type": "stream",
          "name": "stdout",
          "text": [
            "313/313 [==============================] - 1s 4ms/step - loss: 0.8762 - accuracy: 0.7197\n"
          ]
        },
        {
          "output_type": "execute_result",
          "data": {
            "text/plain": [
              "[0.8761866092681885, 0.7196999788284302]"
            ]
          },
          "metadata": {},
          "execution_count": 36
        }
      ]
    },
    {
      "cell_type": "code",
      "metadata": {
        "id": "zW9su0PDYaUG"
      },
      "source": [
        "#Labels\n",
        "labels = '''airplane\n",
        "automobile\n",
        "bird\n",
        "cat\n",
        "deer\n",
        "dog\n",
        "frog\n",
        "horse\n",
        "ship\n",
        "truck'''.split()"
      ],
      "execution_count": null,
      "outputs": []
    }
  ]
}